{
 "cells": [
  {
   "cell_type": "markdown",
   "metadata": {},
   "source": [
    "Linear Regression\n",
    "===="
   ]
  },
  {
   "cell_type": "code",
   "execution_count": 34,
   "metadata": {},
   "outputs": [
    {
     "name": "stdout",
     "output_type": "stream",
     "text": [
      "   age     sex     bmi  children smoker     region      charges\n",
      "0   19  female  27.900         0    yes  southwest  16884.92400\n",
      "1   18    male  33.770         1     no  southeast   1725.55230\n",
      "2   28    male  33.000         3     no  southeast   4449.46200\n",
      "3   33    male  22.705         0     no  northwest  21984.47061\n",
      "4   32    male  28.880         0     no  northwest   3866.85520\n",
      "<class 'pandas.core.frame.DataFrame'>\n",
      "RangeIndex: 1338 entries, 0 to 1337\n",
      "Data columns (total 7 columns):\n",
      " #   Column    Non-Null Count  Dtype  \n",
      "---  ------    --------------  -----  \n",
      " 0   age       1338 non-null   int64  \n",
      " 1   sex       1338 non-null   object \n",
      " 2   bmi       1338 non-null   float64\n",
      " 3   children  1338 non-null   int64  \n",
      " 4   smoker    1338 non-null   object \n",
      " 5   region    1338 non-null   object \n",
      " 6   charges   1338 non-null   float64\n",
      "dtypes: float64(2), int64(2), object(3)\n",
      "memory usage: 73.3+ KB\n",
      "['female' 'male']\n",
      "['yes' 'no']\n",
      "['southwest' 'southeast' 'northwest' 'northeast']\n",
      "   age  sex     bmi  children  smoker  region      charges\n",
      "0   19    0  27.900         0       1       3  16884.92400\n",
      "1   18    1  33.770         1       0       2   1725.55230\n",
      "2   28    1  33.000         3       0       2   4449.46200\n",
      "3   33    1  22.705         0       0       1  21984.47061\n",
      "4   32    1  28.880         0       0       1   3866.85520\n",
      "Correlation Train = 0.868396547435394\n",
      "Correlation Test = 0.8102357957758729\n"
     ]
    }
   ],
   "source": [
    "import numpy as np\n",
    "import pandas as pd  \n",
    "import sklearn as skl\n",
    "from sklearn.preprocessing import LabelEncoder\n",
    "from sklearn.model_selection import train_test_split\n",
    "from sklearn.linear_model import LinearRegression\n",
    "from sklearn.preprocessing import StandardScaler\n",
    "from sklearn.preprocessing import PolynomialFeatures\n",
    "from sklearn.pipeline import make_pipeline\n",
    "\n",
    "insurance_df = pd.read_csv(\"./insurance.csv\")\n",
    "print(insurance_df.head())\n",
    "insurance_df.info();\n",
    "le=LabelEncoder()\n",
    "print(insurance_df['sex'].unique())\n",
    "print(insurance_df['smoker'].unique())\n",
    "print(insurance_df['region'].unique())\n",
    "insurance_df['sex']=le.fit_transform(insurance_df['sex'])\n",
    "insurance_df['smoker']=le.fit_transform(insurance_df['smoker'])\n",
    "insurance_df['region']=le.fit_transform(insurance_df['region'])\n",
    "x=insurance_df[['age','sex','bmi','children','smoker','region']]\n",
    "y=insurance_df['charges']\n",
    "print(insurance_df.head())\n",
    "\n",
    "x_train, x_test, y_train, y_test = train_test_split(x, y, test_size=0.15 , shuffle=False,random_state = 0)\n",
    "\n",
    "poly_features = PolynomialFeatures(degree=4, include_bias=False)\n",
    "std_scaler = StandardScaler()\n",
    "lin_reg = LinearRegression()\n",
    "polynomial_regression = make_pipeline(poly_features, std_scaler, lin_reg)\n",
    "polynomial_regression.fit(x_train, y_train)\n",
    "print('Correlation Train =', polynomial_regression.score(x_train, y_train))\n",
    "print('Correlation Test =', polynomial_regression.score(x_test, y_test))\n",
    "\n",
    "predictions_test = polynomial_regression.predict(x_test)\n",
    "\n",
    "import pickle\n",
    "\n",
    "filename = 'insurance.pickle'\n",
    "pickle.dump(polynomial_regression, open(filename, 'wb'))\n",
    "\n",
    "#installer pipreqsnb\n",
    "#pip install pipreqsnb\n",
    "#faire $pipreqs  .\n",
    "#pour générer le fichier requirements.txt\n"
   ]
  }
 ],
 "metadata": {
  "kernelspec": {
   "display_name": "Python 3",
   "language": "python",
   "name": "python3"
  },
  "language_info": {
   "codemirror_mode": {
    "name": "ipython",
    "version": 3
   },
   "file_extension": ".py",
   "mimetype": "text/x-python",
   "name": "python",
   "nbconvert_exporter": "python",
   "pygments_lexer": "ipython3",
   "version": "3.11.4"
  }
 },
 "nbformat": 4,
 "nbformat_minor": 2
}
